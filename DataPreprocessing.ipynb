{
 "cells": [
  {
   "cell_type": "code",
   "execution_count": null,
   "metadata": {},
   "outputs": [],
   "source": [
    "from utils.utils import *\n",
    "import voyageai\n",
    "from dotenv import load_dotenv\n",
    "import os\n",
    "from langchain_community.document_loaders import PyMuPDFLoader\n",
    "\n",
    "load_dotenv(\".env\")\n",
    "\n",
    "VOYAGE_API_KEY = os.environ.get(\"VOYAGE_API_KEY\")\n",
    "\n"
   ]
  },
  {
   "cell_type": "code",
   "execution_count": null,
   "metadata": {},
   "outputs": [],
   "source": [
    "loader = PyMuPDFLoader(\"data/scopic_pdf.pdf\")\n",
    "\n",
    "pdf_data = loader.load()\n",
    "\n",
    "pdf_data\n",
    "\n",
    "data = []\n",
    "\n",
    "def clean_pdf(content):\n",
    "    content = re.sub(r'\\s+', ' ', content)\n",
    "    lines = [line.strip() for line in content.splitlines() if line.strip()]\n",
    "    cleaned_content = '\\n'.join(lines)\n",
    "    return cleaned_content\n",
    "\n",
    "for page in pdf_data:\n",
    "    _text = page.page_content\n",
    "    text = clean_pdf(_text)\n",
    "    print(text)\n",
    "\n",
    "    data.append(text)"
   ]
  },
  {
   "cell_type": "code",
   "execution_count": null,
   "metadata": {},
   "outputs": [],
   "source": [
    "data"
   ]
  },
  {
   "cell_type": "code",
   "execution_count": null,
   "metadata": {},
   "outputs": [],
   "source": [
    "\n",
    "\n",
    "log_format = '%(asctime)s %(levelname)s: \\n%(message)s\\n'\n",
    "\n",
    "logging.basicConfig(filename=\"/Users/juanreyesgarcia/Dev/Python/RAG/logging.log\",\n",
    "\tlevel=logging.INFO,\n",
    "\tformat=log_format)\n",
    "\n",
    "def raw_to_batches(data: list, max_tokens: int = 512, print_messages: bool = True) -> list:\n",
    "\tbatches = []\n",
    "\ttotal_tokens = 0\n",
    "\ttruncation_counter = 0  # Counter for truncations\n",
    "\n",
    "\tfor entry in data:\n",
    "\t\t#text = \" \".join(i)  # Join the elements of the list into a single string\n",
    "\t\ttokens_description = num_tokens(entry)\n",
    "\t\tif tokens_description <= max_tokens:\n",
    "\t\t\tbatches.append(entry)\n",
    "\t\telse:\n",
    "\t\t\t#TRUNCATE IF STRING MORE THAN x TOKENS\n",
    "\t\t\tjob_truncated = truncated_string(entry, model=\"gpt-3.5-turbo\", max_tokens=max_tokens)\n",
    "\t\t\tbatches.append(job_truncated)\n",
    "\t\t\ttruncation_counter += 1\n",
    "\n",
    "\t\ttotal_tokens += num_tokens(entry)\n",
    "\n",
    "\tapproximate_cost = 0\n",
    "\n",
    "\taverage_tokens_per_batch = total_tokens / len(batches)\n",
    "\tcontent = f\"TOTAL NUMBER OF BATCHES: {len(batches)}\\n\" \\\n",
    "\t\t\tf\"TOTAL NUMBER OF TOKENS: {total_tokens}\\n\" \\\n",
    "\t\t\tf\"MAX TOKENS PER BATCH: {max_tokens}\\n\" \\\n",
    "\t\t\tf\"NUMBER OF TRUNCATIONS: {truncation_counter}\\n\" \\\n",
    "\t\t\tf\"AVERAGE NUMBER OF TOKENS PER BATCH: {average_tokens_per_batch}\\n\" \\\n",
    "\t\t\tf\"APPROXIMATE COST OF EMBEDDING: ${approximate_cost} USD\\n\"\n",
    "\t\n",
    "\n",
    "\tlogging.info(f\"\\nRAW BATCHES SPECS: -------\\n{content}\")\n",
    "\n",
    "\tif print_messages:\n",
    "\t\tfor i, batch in enumerate(batches, start=1):\n",
    "\t\t\tprint(f\"Batch {i}:\")\n",
    "\t\t\tprint(\"\".join(batch))\n",
    "\t\t\tprint(f\"Tokens per batch:\", num_tokens(batch))\n",
    "\t\t\tprint(\"\\n\")\n",
    "\n",
    "\t\tprint(content)\n",
    "\t\n",
    "\treturn batches\n",
    "\n",
    "\n",
    "batches = raw_to_batches(data)"
   ]
  },
  {
   "cell_type": "code",
   "execution_count": null,
   "metadata": {},
   "outputs": [],
   "source": [
    "\n",
    "\n",
    "vo = voyageai.Client(api_key=VOYAGE_API_KEY)\n",
    "\n",
    "result = vo.embed(batches, model=\"voyage-2\", input_type=\"document\", truncation=False)\n",
    "\n",
    "pd_data = {\n",
    "    \"chunks\": batches,\n",
    "    \"embeddings\": result.embeddings\n",
    "}\n",
    "\n",
    "df = pd.DataFrame(pd_data)\n",
    "\n",
    "print(df)"
   ]
  },
  {
   "cell_type": "code",
   "execution_count": null,
   "metadata": {},
   "outputs": [],
   "source": [
    "to_postgre(df)"
   ]
  }
 ],
 "metadata": {
  "kernelspec": {
   "display_name": "venv",
   "language": "python",
   "name": "python3"
  },
  "language_info": {
   "codemirror_mode": {
    "name": "ipython",
    "version": 3
   },
   "file_extension": ".py",
   "mimetype": "text/x-python",
   "name": "python",
   "nbconvert_exporter": "python",
   "pygments_lexer": "ipython3",
   "version": "3.10.6"
  }
 },
 "nbformat": 4,
 "nbformat_minor": 2
}
